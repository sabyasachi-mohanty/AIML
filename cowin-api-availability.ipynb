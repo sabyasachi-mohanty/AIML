{
 "cells": [
  {
   "cell_type": "code",
   "execution_count": 1,
   "metadata": {},
   "outputs": [
    {
     "ename": "ModuleNotFoundError",
     "evalue": "No module named 'fake_useragent'",
     "output_type": "error",
     "traceback": [
      "\u001b[1;31m---------------------------------------------------------------------------\u001b[0m",
      "\u001b[1;31mModuleNotFoundError\u001b[0m                       Traceback (most recent call last)",
      "\u001b[1;32m<ipython-input-1-700848e129c0>\u001b[0m in \u001b[0;36m<module>\u001b[1;34m\u001b[0m\n\u001b[0;32m      3\u001b[0m \u001b[1;32mimport\u001b[0m \u001b[0mjson\u001b[0m\u001b[1;33m\u001b[0m\u001b[1;33m\u001b[0m\u001b[0m\n\u001b[0;32m      4\u001b[0m \u001b[1;32mimport\u001b[0m \u001b[0mpandas\u001b[0m \u001b[1;32mas\u001b[0m \u001b[0mpd\u001b[0m\u001b[1;33m\u001b[0m\u001b[1;33m\u001b[0m\u001b[0m\n\u001b[1;32m----> 5\u001b[1;33m \u001b[1;32mfrom\u001b[0m \u001b[0mfake_useragent\u001b[0m \u001b[1;32mimport\u001b[0m \u001b[0mUserAgent\u001b[0m\u001b[1;33m\u001b[0m\u001b[1;33m\u001b[0m\u001b[0m\n\u001b[0m",
      "\u001b[1;31mModuleNotFoundError\u001b[0m: No module named 'fake_useragent'"
     ]
    }
   ],
   "source": [
    "import requests\n",
    "import datetime\n",
    "import json\n",
    "import pandas as pd\n",
    "from fake_useragent import UserAgent"
   ]
  },
  {
   "cell_type": "code",
   "execution_count": null,
   "metadata": {},
   "outputs": [],
   "source": [
    "temp_user_agent = UserAgent()\n",
    "browser_header = {'User-Agent': temp_user_agent.random}"
   ]
  },
  {
   "cell_type": "code",
   "execution_count": null,
   "metadata": {
    "scrolled": false,
    "tags": []
   },
   "outputs": [],
   "source": [
    "for state_code in range(1,40):\n",
    "    print(\"State code: \", state_code)\n",
    "    response = requests.get(\"https://cdn-api.co-vin.in/api/v2/admin/location/districts/{}\".format(state_code), headers=browser_header)\n",
    "    json_data = json.loads(response.text)\n",
    "    for i in json_data[\"districts\"]:\n",
    "        print(i[\"district_id\"],'\\t', i[\"district_name\"])\n",
    "    print(\"\\n\")"
   ]
  },
  {
   "cell_type": "code",
   "execution_count": null,
   "metadata": {},
   "outputs": [],
   "source": [
    "DIST_ID = 392 # Thane\n",
    "# DIST_ID = 395 # Mumbai\n",
    "# DIST_ID = 706 #Pithoragarh\n",
    "\n",
    "# Print available centre description (y/n)?\n",
    "print_flag = 'y'\n",
    "\n",
    "numdays = 20\n",
    "age = 55"
   ]
  },
  {
   "cell_type": "code",
   "execution_count": null,
   "metadata": {},
   "outputs": [],
   "source": [
    "base = datetime.datetime.today()\n",
    "date_list = [base + datetime.timedelta(days=x) for x in range(numdays)]\n",
    "date_str = [x.strftime(\"%d-%m-%Y\") for x in date_list]"
   ]
  },
  {
   "cell_type": "code",
   "execution_count": null,
   "metadata": {
    "scrolled": false,
    "tags": []
   },
   "outputs": [],
   "source": [
    "for INP_DATE in date_str:\n",
    "    URL = \"https://cdn-api.co-vin.in/api/v2/appointment/sessions/calendarByDistrict?district_id={}&date={}\".format(DIST_ID, INP_DATE)\n",
    "    response = requests.get(URL, headers=browser_header)\n",
    "    if response.ok:\n",
    "        resp_json = response.json()\n",
    "        # print(json.dumps(resp_json, indent = 1))\n",
    "        if resp_json[\"centers\"]:\n",
    "            print(\"Available on: {}\".format(INP_DATE))\n",
    "            if(print_flag=='y' or print_flag=='Y'):\n",
    "                for center in resp_json[\"centers\"]:\n",
    "                    for session in center[\"sessions\"]:\n",
    "                        if session[\"min_age_limit\"] <= age:\n",
    "                            print(\"\\t\", center[\"name\"])\n",
    "                            print(\"\\t\", center[\"block_name\"])\n",
    "                            print(\"\\t Price: \", center[\"fee_type\"])\n",
    "                            print(\"\\t Available Capacity: \", session[\"available_capacity\"])\n",
    "                            if(session[\"vaccine\"] != ''):\n",
    "                                print(\"\\t Vaccine: \", session[\"vaccine\"])\n",
    "                            print(\"\\n\\n\")\n",
    "                            \n",
    "            \n",
    "                \n",
    "        else:\n",
    "            print(\"No available slots on {}\".format(INP_DATE))\n",
    "    "
   ]
  },
  {
   "cell_type": "code",
   "execution_count": null,
   "metadata": {},
   "outputs": [],
   "source": []
  }
 ],
 "metadata": {
  "kernelspec": {
   "display_name": "Python 3",
   "language": "python",
   "name": "python3"
  },
  "language_info": {
   "codemirror_mode": {
    "name": "ipython",
    "version": 3
   },
   "file_extension": ".py",
   "mimetype": "text/x-python",
   "name": "python",
   "nbconvert_exporter": "python",
   "pygments_lexer": "ipython3",
   "version": "3.8.8"
  }
 },
 "nbformat": 4,
 "nbformat_minor": 4
}
